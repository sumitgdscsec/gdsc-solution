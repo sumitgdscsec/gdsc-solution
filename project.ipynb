import pandas as pd
import matplotlib.pyplot as plt
# Creating a sample dataset
data = {'Country': ['USA', 'India', 'China', 'Brazil'],
        'Population': [327, 1393, 1444, 212]}

df = pd.DataFrame(data)
# Display the first few rows of the dataset
df.head()
# Plotting the population data
plt.bar(df['Country'], df['Population'])
plt.xlabel('Country')
plt.ylabel('Population (in millions)')
plt.title('Population of Selected Countries')
plt.show()
